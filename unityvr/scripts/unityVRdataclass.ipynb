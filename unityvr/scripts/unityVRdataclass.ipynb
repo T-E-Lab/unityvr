{
 "cells": [
  {
   "attachments": {},
   "cell_type": "markdown",
   "metadata": {},
   "source": [
    "## How to construct and use the unityvr dataclass?"
   ]
  },
  {
   "cell_type": "code",
   "execution_count": 1,
   "metadata": {},
   "outputs": [],
   "source": [
    "import numpy as np\n",
    "import matplotlib.pyplot as plt\n",
    "from os import listdir\n",
    "from os.path import isfile, join\n",
    "\n",
    "from unityvr.preproc import logproc as lp\n",
    "from unityvr.viz import viz, utils"
   ]
  },
  {
   "attachments": {},
   "cell_type": "markdown",
   "metadata": {},
   "source": [
    "#### Generate data object"
   ]
  },
  {
   "cell_type": "code",
   "execution_count": 2,
   "metadata": {},
   "outputs": [
    {
     "data": {
      "text/plain": [
       "'Log_2023-05-26_15-28-47.json'"
      ]
     },
     "execution_count": 2,
     "metadata": {},
     "output_type": "execute_result"
    }
   ],
   "source": [
    "dirName = 'Z:/FlyVR/FlyVR data'\n",
    "fileName = 'Log_2023-05-26_15-28-47.json'\n",
    "fileName"
   ]
  },
  {
   "cell_type": "code",
   "execution_count": 3,
   "metadata": {},
   "outputs": [
    {
     "name": "stdout",
     "output_type": "stream",
     "text": [
      "correcting for Unity angle convention.\n",
      "Metadata:\n",
      "\n",
      "expid  :  testExp\n",
      "experiment  :  test experiment\n",
      "genotype  :  testGenotype\n",
      "sex  :  NA\n",
      "flyid  :  NA\n",
      "trial  :  trial5-28-47\n",
      "date  :  2023-05-26\n",
      "time  :  15-28-47\n",
      "ballRad  :  0.04699999839067459\n",
      "setFrameRate  :  60\n",
      "notes  :  NA\n",
      "angle_convention  :  right-handed\n"
     ]
    }
   ],
   "source": [
    "uvrTest = lp.constructUnityVRexperiment(dirName,fileName)\n",
    "uvrTest.printMetadata()"
   ]
  },
  {
   "attachments": {},
   "cell_type": "markdown",
   "metadata": {},
   "source": [
    "#### Use of object-functions"
   ]
  },
  {
   "cell_type": "code",
   "execution_count": 4,
   "metadata": {},
   "outputs": [
    {
     "data": {
      "text/html": [
       "<div>\n",
       "<style scoped>\n",
       "    .dataframe tbody tr th:only-of-type {\n",
       "        vertical-align: middle;\n",
       "    }\n",
       "\n",
       "    .dataframe tbody tr th {\n",
       "        vertical-align: top;\n",
       "    }\n",
       "\n",
       "    .dataframe thead th {\n",
       "        text-align: right;\n",
       "    }\n",
       "</style>\n",
       "<table border=\"1\" class=\"dataframe\">\n",
       "  <thead>\n",
       "    <tr style=\"text-align: right;\">\n",
       "      <th></th>\n",
       "      <th>frame</th>\n",
       "      <th>ficTracTReadMs</th>\n",
       "      <th>ficTracTWriteMs</th>\n",
       "      <th>dx</th>\n",
       "      <th>dy</th>\n",
       "      <th>dz</th>\n",
       "    </tr>\n",
       "  </thead>\n",
       "  <tbody>\n",
       "    <tr>\n",
       "      <th>0</th>\n",
       "      <td>10.0</td>\n",
       "      <td>0.0</td>\n",
       "      <td>0.0</td>\n",
       "      <td>0.003056</td>\n",
       "      <td>0.002514</td>\n",
       "      <td>0.004162</td>\n",
       "    </tr>\n",
       "    <tr>\n",
       "      <th>1</th>\n",
       "      <td>11.0</td>\n",
       "      <td>7.0</td>\n",
       "      <td>7.0</td>\n",
       "      <td>0.015370</td>\n",
       "      <td>0.009642</td>\n",
       "      <td>0.015787</td>\n",
       "    </tr>\n",
       "    <tr>\n",
       "      <th>2</th>\n",
       "      <td>12.0</td>\n",
       "      <td>21.0</td>\n",
       "      <td>21.0</td>\n",
       "      <td>0.033348</td>\n",
       "      <td>0.003748</td>\n",
       "      <td>0.022823</td>\n",
       "    </tr>\n",
       "    <tr>\n",
       "      <th>3</th>\n",
       "      <td>13.0</td>\n",
       "      <td>32.0</td>\n",
       "      <td>32.0</td>\n",
       "      <td>-0.038443</td>\n",
       "      <td>-0.001639</td>\n",
       "      <td>-0.000123</td>\n",
       "    </tr>\n",
       "    <tr>\n",
       "      <th>4</th>\n",
       "      <td>14.0</td>\n",
       "      <td>71.0</td>\n",
       "      <td>71.0</td>\n",
       "      <td>0.037815</td>\n",
       "      <td>0.003070</td>\n",
       "      <td>0.024492</td>\n",
       "    </tr>\n",
       "  </tbody>\n",
       "</table>\n",
       "</div>"
      ],
      "text/plain": [
       "   frame  ficTracTReadMs  ficTracTWriteMs        dx        dy        dz\n",
       "0   10.0             0.0              0.0  0.003056  0.002514  0.004162\n",
       "1   11.0             7.0              7.0  0.015370  0.009642  0.015787\n",
       "2   12.0            21.0             21.0  0.033348  0.003748  0.022823\n",
       "3   13.0            32.0             32.0 -0.038443 -0.001639 -0.000123\n",
       "4   14.0            71.0             71.0  0.037815  0.003070  0.024492"
      ]
     },
     "execution_count": 4,
     "metadata": {},
     "output_type": "execute_result"
    }
   ],
   "source": [
    "frameftDf = uvrTest.downsampleftDf()\n",
    "frameftDf.head()"
   ]
  },
  {
   "attachments": {},
   "cell_type": "markdown",
   "metadata": {},
   "source": [
    "#### Plot trajectory"
   ]
  },
  {
   "cell_type": "code",
   "execution_count": 5,
   "metadata": {},
   "outputs": [
    {
     "data": {
      "image/png": "[encoded data removed]",
      "text/plain": [
       "<Figure size 720x360 with 2 Axes>"
      ]
     },
     "metadata": {
      "needs_background": "light"
     },
     "output_type": "display_data"
    }
   ],
   "source": [
    "#conversion factor to cm\n",
    "dc2cm = 10\n",
    "\n",
    "fig, axs = viz.plotFlyPath(uvrTest, dc2cm, figsize=(10,5))\n",
    "utils.pathPlotAxisTheme(axs[0],'cm')\n",
    "utils.plotScaleBar(axs[0],1,(-7,0),'1 cm')"
   ]
  },
  {
   "cell_type": "code",
   "execution_count": 6,
   "metadata": {},
   "outputs": [
    {
     "data": {
      "image/png": "[encoded data removed]",
      "text/plain": [
       "<Figure size 720x720 with 1 Axes>"
      ]
     },
     "metadata": {},
     "output_type": "display_data"
    }
   ],
   "source": [
    "# Plot trajectory witth objects (all in decimeter)\n",
    "fig, ax = viz.plotVRpathWithObjects(uvrTest,limx=[-np.inf, -np.inf],limy=[-np.inf, -np.inf], myfigsize=(10,10))\n",
    "utils.pathPlotAxisTheme(ax,'dm')\n",
    "utils.plotScaleBar(ax,1,(1,0),'1 dm')"
   ]
  },
  {
   "attachments": {},
   "cell_type": "markdown",
   "metadata": {},
   "source": [
    "#### Save object to file, load object from file"
   ]
  },
  {
   "cell_type": "code",
   "execution_count": 7,
   "metadata": {},
   "outputs": [
    {
     "name": "stdout",
     "output_type": "stream",
     "text": [
      "Z:\\FlyVR\\FlyVR data\\trial5-28-47\\uvr\n"
     ]
    }
   ],
   "source": [
    "preprocDir = dirName #choose location for preprocessing (for simplicity here we use the sample directory)\n",
    "savepath = uvrTest.saveData(preprocDir, uvrTest.metadata['trial'])\n",
    "print(savepath)"
   ]
  },
  {
   "cell_type": "code",
   "execution_count": 8,
   "metadata": {},
   "outputs": [
    {
     "name": "stdout",
     "output_type": "stream",
     "text": [
      "Metadata:\n",
      "\n",
      "expid  :  testExp\n",
      "experiment  :  test experiment\n",
      "genotype  :  testGenotype\n",
      "sex  :  NA\n",
      "flyid  :  NA\n",
      "trial  :  trial5-28-47\n",
      "date  :  2023-05-26\n",
      "time  :  15-28-47\n",
      "ballRad  :  0.04699999839067459\n",
      "setFrameRate  :  60\n",
      "notes  :  NA\n",
      "angle_convention  :  right-handed\n"
     ]
    }
   ],
   "source": [
    "uvrTest_loaded = lp.loadUVRData(savepath)\n",
    "uvrTest_loaded.printMetadata()"
   ]
  }
 ],
 "metadata": {
  "kernelspec": {
   "display_name": "unityvr",
   "language": "python",
   "name": "python3"
  },
  "language_info": {
   "codemirror_mode": {
    "name": "ipython",
    "version": 3
   },
   "file_extension": ".py",
   "mimetype": "text/x-python",
   "name": "python",
   "nbconvert_exporter": "python",
   "pygments_lexer": "ipython3",
   "version": "3.8.17"
  }
 },
 "nbformat": 4,
 "nbformat_minor": 4
}
